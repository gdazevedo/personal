{
 "cells": [
  {
   "cell_type": "markdown",
   "metadata": {},
   "source": [
    "# Covid-19 em Niterói (RJ)"
   ]
  },
  {
   "cell_type": "markdown",
   "metadata": {},
   "source": [
    "O código a seguir foi desenvolvido para fazer uma análise dos dados sobre a Covid-19 em Niterói, disponibilizados pela Prefeitura diariamente em sua página no [Twitter](https://twitter.com/saudeniteroi?s=20). Para isso, todos os dados foram pegos da página da Secretaria de Saúde do município e colocados no arquivo `Dados_Covid_Niteroi.csv`"
   ]
  },
  {
   "cell_type": "markdown",
   "metadata": {},
   "source": [
    "## Primeiro passo: chamando os pacotes"
   ]
  },
  {
   "cell_type": "markdown",
   "metadata": {},
   "source": [
    "Vamos utilizar nesse código 4 pacotes:\n",
    "\n",
    "* **Pandas**, um pacote magnífico para lidar com estrutura de dados em tabelas;\n",
    "* **Numpy**, um pacote para operações matemáticas;\n",
    "* **Scipy.stats**, módulo estatístico do pacote Scipy, para fazer análises estatísticas;\n",
    "* **Matplotlib.pyplot**, pacote mais utilizado para gerar gráficos"
   ]
  },
  {
   "cell_type": "code",
   "execution_count": 6,
   "metadata": {},
   "outputs": [],
   "source": [
    "import pandas as pd\n",
    "import numpy as np\n",
    "import matplotlib.pyplot as plt\n",
    "import scipy.stats as ss"
   ]
  },
  {
   "cell_type": "markdown",
   "metadata": {},
   "source": [
    "## Segundo passo: lendo o arquivo csv"
   ]
  },
  {
   "cell_type": "markdown",
   "metadata": {},
   "source": [
    "A leitura do arquivo será feita pelo pacote **Pandas**, utilizando a função `read_csv`. Atente para o separador utilizado (;), para o argumento `header = 0`, que diz que a primeira linha de cada coluna é o cabeçalho, e para os nomes das colunas dados. Caso você opte por usar outra base de dados (de outra cidade) ou atualizar o arquivo, deverá colocar mais uma entrada no vetor `names`."
   ]
  },
  {
   "cell_type": "code",
   "execution_count": 7,
   "metadata": {},
   "outputs": [],
   "source": [
    "df = pd.read_csv(\"Dados_COVID_Niteroi.csv\", sep = ';', header = 0,\n",
    "                 names = ['Date', 'Total cases', 'New cases', 'Total deaths', 'New deaths']) "
   ]
  },
  {
   "cell_type": "markdown",
   "metadata": {},
   "source": [
    "Vamos, agora, criar um vetor `dias` que receberá os dados da primeira coluna do `df` (dataframe), *convertendo-os* para o formato de data. Isso é importante pois não iremos conseguir manipular esses dados da maneira tradicional, pois eles não são *integers*. Para isso, usaremos o comando `pd.to_datetime`:"
   ]
  },
  {
   "cell_type": "code",
   "execution_count": 8,
   "metadata": {},
   "outputs": [],
   "source": [
    "dias = pd.to_datetime(df['Date'])"
   ]
  },
  {
   "cell_type": "markdown",
   "metadata": {},
   "source": [
    "## Terceiro passo: cálculos"
   ]
  },
  {
   "cell_type": "markdown",
   "metadata": {},
   "source": [
    "Agora é o momento de fazermos alguns cálculos. Vamos por partes:"
   ]
  },
  {
   "cell_type": "markdown",
   "metadata": {},
   "source": [
    "* Cálculo da taxa de letalidade da Covid-19 em Niterói\n",
    "\n",
    "Esse cálculo é feito através da razão entre o número total de mortes atribuídas à COVID-19 e o número total de infectados. Como nossa planilha de dados é atualizada diariamente com o número total de casos na cidade, então basta pegarmos o *último* dado da coluna *Total cases* e o último dado da coluna *Total deaths*. Acessamos o último dado (posição -1) da respectiva coluna do DataFrame `df`:"
   ]
  },
  {
   "cell_type": "code",
   "execution_count": 20,
   "metadata": {},
   "outputs": [],
   "source": [
    "Let = df['Total deaths'].iloc[-1] / df['Total cases'].iloc[-1] * 100.0"
   ]
  },
  {
   "cell_type": "code",
   "execution_count": 18,
   "metadata": {},
   "outputs": [
    {
     "name": "stdout",
     "output_type": "stream",
     "text": [
      "A taxa de letalidade é: 4.04 %\n"
     ]
    }
   ],
   "source": [
    "print('A taxa de letalidade é: %0.2f' % Let,'%')"
   ]
  },
  {
   "cell_type": "markdown",
   "metadata": {},
   "source": [
    "* Cálculo do número de novos casos (acumulado dos últimos 7 dias)\n",
    "\n",
    "Esse cálculo é feito a partir da *soma* dos novos casos dos últimos 7 dias. Geralmente, expressa-se esse dado para cada 100.000 habitantes. Para fazermos essa conta, precisamos então do **número de habitantes de Niterói**. De acordo com a estimativa do [IBGE](https://www.ibge.gov.br/cidades-e-estados/rj/niteroi.html) para o ano de 2019, Niterói tem aproximadamente **513.584 habitantes**. Acessar os últimos números de um DataFrame é fácil: basta utilizar o comando `.tail()`, colocando dentro do parêntesis um número inteiro que representa quantos números você quer acessar. No nosso caso, queremos *somar* os 7 últimos dados da coluna *New cases* Portanto, temos, usaremos `.tail(7).sum()`:"
   ]
  },
  {
   "cell_type": "code",
   "execution_count": 21,
   "metadata": {},
   "outputs": [],
   "source": [
    "Pop = 513584"
   ]
  },
  {
   "cell_type": "code",
   "execution_count": 22,
   "metadata": {},
   "outputs": [],
   "source": [
    "NewCases_100k = df['New cases'].tail(7).sum() / (Pop / 10**5)"
   ]
  },
  {
   "cell_type": "code",
   "execution_count": 26,
   "metadata": {},
   "outputs": [
    {
     "name": "stdout",
     "output_type": "stream",
     "text": [
      "O número de novos casos em Niterói é de 99.50 para cada 100 mil habitantes\n"
     ]
    }
   ],
   "source": [
    "print('O número de novos casos em Niterói é de %0.2f' % NewCases_100k,'para cada 100 mil habitantes')"
   ]
  },
  {
   "cell_type": "markdown",
   "metadata": {},
   "source": [
    "* Cálculo do número de novas mortes (acumulado dos últimos 7 dias)\n",
    "\n",
    "O cálculo é feito exatamente como mostrado para o número de novos casos. Agora, buscaremos somar os 7 últimos dados da coluna *New deaths* do DataFrame. Assim:"
   ]
  },
  {
   "cell_type": "code",
   "execution_count": 27,
   "metadata": {},
   "outputs": [],
   "source": [
    "NewDeaths_100k = df['New deaths'].tail(7).sum() / (Pop / 10**5)"
   ]
  },
  {
   "cell_type": "code",
   "execution_count": 28,
   "metadata": {},
   "outputs": [
    {
     "name": "stdout",
     "output_type": "stream",
     "text": [
      "O número de novas mortes em Niterói é de 3.31 para cada 100 mil habitantes\n"
     ]
    }
   ],
   "source": [
    "print('O número de novas mortes em Niterói é de %0.2f' % NewDeaths_100k, 'para cada 100 mil habitantes')"
   ]
  },
  {
   "cell_type": "markdown",
   "metadata": {},
   "source": [
    "***\n",
    "**Cálculos estatísticos**\n",
    "***\n",
    "\n",
    "Agora, vamos fazer alguns cálculos estatísticos. De acordo com a literatura disponível, a fase crítica da pandemia se caacteriza por um crescimento *exponencial* do número de casos. Estima-se que a doença possa apresentar certo controle quando esse crescimento torna-se *linear*. Então, o que vamos fazer agora é ver como foi esse crescimento de casos, mês a mês, na cidade de Niterói, e fazer uma *regressão linear*, ou seja, descobrir se os dados se comportam mais ou menos como uma linha reta.\n",
    "\n",
    "\n",
    "* Separar os dados para a regressão\n",
    "\n",
    "\n",
    "A primeira coisa a se fazer é *separar os dados* do DataFrame (`df`) por *mês*. Lembra que nós criamos um novo vetor coluna `dias` só com os dados das datas, convertendo os valores para o formato *data* para que pudéssemos melhor manipulá-lo? Então, é ele que vamos acessar agora. \n",
    "\n",
    "O pacote **Pandas** permite que a gente acesse dados com certas *condições* no DataFrame. No nosso caso, queremos acessar, nesse momento, *somente os dados relativos ao mês de Abril*. Formatar esses dados para o formato de data nos ajuda, pois o **Pandas** tem um comando de acesso à entradas formatadas especificamente para datas: o `.dt`.\n",
    "\n",
    "Como queremos todos os dados do mês de Abril, vamos pedir para o **Pandas** localizar (`loc`) pra gente todos os dados do *mês 4*, ou seja, `dt.month == 4`. Vamos jogar esses dados localizados num vetor que chamaremos de `abril`:"
   ]
  },
  {
   "cell_type": "code",
   "execution_count": 29,
   "metadata": {},
   "outputs": [],
   "source": [
    "abril = dias.loc[dias.dt.month == 4]"
   ]
  },
  {
   "cell_type": "code",
   "execution_count": 30,
   "metadata": {},
   "outputs": [
    {
     "data": {
      "text/plain": [
       "0    2020-04-01\n",
       "1    2020-04-02\n",
       "2    2020-04-03\n",
       "3    2020-04-04\n",
       "4    2020-04-05\n",
       "5    2020-04-06\n",
       "6    2020-04-07\n",
       "7    2020-04-08\n",
       "8    2020-04-09\n",
       "9    2020-04-10\n",
       "10   2020-04-11\n",
       "11   2020-04-12\n",
       "12   2020-04-13\n",
       "13   2020-04-14\n",
       "14   2020-04-15\n",
       "15   2020-04-16\n",
       "16   2020-04-17\n",
       "17   2020-04-18\n",
       "18   2020-04-19\n",
       "19   2020-04-20\n",
       "20   2020-04-21\n",
       "21   2020-04-22\n",
       "22   2020-04-23\n",
       "23   2020-04-24\n",
       "24   2020-04-25\n",
       "25   2020-04-26\n",
       "26   2020-04-27\n",
       "27   2020-04-28\n",
       "28   2020-04-29\n",
       "29   2020-04-30\n",
       "Name: Date, dtype: datetime64[ns]"
      ]
     },
     "execution_count": 30,
     "metadata": {},
     "output_type": "execute_result"
    }
   ],
   "source": [
    "abril"
   ]
  },
  {
   "cell_type": "markdown",
   "metadata": {},
   "source": [
    "Agora é só fazer o mesmo com os meses de Maio (05) e Junho (06):"
   ]
  },
  {
   "cell_type": "code",
   "execution_count": 31,
   "metadata": {},
   "outputs": [],
   "source": [
    "maio = dias.loc[dias.dt.month == 5]"
   ]
  },
  {
   "cell_type": "code",
   "execution_count": 32,
   "metadata": {},
   "outputs": [],
   "source": [
    "junho = dias.loc[dias.dt.month == 6]"
   ]
  },
  {
   "cell_type": "markdown",
   "metadata": {},
   "source": [
    "Agora, precisamos fazer o mesmo procedimento, mas para os casos totais por dia em cada mês. Bom, o procedimento é o mesmo e temos até algumas formas diferentes de fazê-lo. Aqui, a lógica que usaremos é a seguinte: nós vamos localizar no nosso DataFrame principal `df.loc`, a partir da condição de que o valor para o mês no vetor `dias` é 4 (Abril), os valores correspondentes à essa condição na coluna *Total cases*. Ou seja, vamos localizar valores dentro do DataFrame `df` que respeitem um critério prévio: os índices das entradas no vetor `dia` cujo mês é Abril (4)."
   ]
  },
  {
   "cell_type": "code",
   "execution_count": 33,
   "metadata": {},
   "outputs": [],
   "source": [
    "abril_totalcases = df.loc[dias.dt.month == 4, 'Total cases']"
   ]
  },
  {
   "cell_type": "code",
   "execution_count": 34,
   "metadata": {},
   "outputs": [
    {
     "data": {
      "text/plain": [
       "0      62\n",
       "1      63\n",
       "2      65\n",
       "3      87\n",
       "4      92\n",
       "5     106\n",
       "6     107\n",
       "7     117\n",
       "8     130\n",
       "9     147\n",
       "10    167\n",
       "11    177\n",
       "12    185\n",
       "13    194\n",
       "14    198\n",
       "15    212\n",
       "16    232\n",
       "17    238\n",
       "18    242\n",
       "19    247\n",
       "20    253\n",
       "21    258\n",
       "22    264\n",
       "23    278\n",
       "24    288\n",
       "25    346\n",
       "26    405\n",
       "27    409\n",
       "28    431\n",
       "29    443\n",
       "Name: Total cases, dtype: int64"
      ]
     },
     "execution_count": 34,
     "metadata": {},
     "output_type": "execute_result"
    }
   ],
   "source": [
    "abril_totalcases"
   ]
  },
  {
   "cell_type": "markdown",
   "metadata": {},
   "source": [
    "Faremos o mesmo agora para os meses de Maio e Junho:"
   ]
  },
  {
   "cell_type": "code",
   "execution_count": 35,
   "metadata": {},
   "outputs": [],
   "source": [
    "maio_totalcases = df.loc[dias.dt.month == 5, 'Total cases']"
   ]
  },
  {
   "cell_type": "code",
   "execution_count": 36,
   "metadata": {},
   "outputs": [],
   "source": [
    "junho_totalcases = df.loc[dias.dt.month == 6, 'Total cases']"
   ]
  },
  {
   "cell_type": "markdown",
   "metadata": {},
   "source": [
    "* Preparar os dados para a regressão\n",
    "\n"
   ]
  },
  {
   "cell_type": "markdown",
   "metadata": {},
   "source": [
    "Chegou a hora de prepararmos os dados para a regressão. Lembra que nós convertemos os dados de `df['Dates']` para formato de data para manipulá-los na hora de plotar? Então, nesse momento específico da regressão, não podemos trabalhar com eles nesse formato. Precisamos, na verdade, que eles estejam no formato numérico (`int64` ou `float64`).\n",
    "\n",
    "Como nós criamos novos vetores para pegar esses dados 'convertidos', podemos fazer a conversão tranquilamente sem perder informação para posteriori. Para isso, vamos jogar esses vetores em *arrays*, fazendo a conversão para `float`:"
   ]
  },
  {
   "cell_type": "code",
   "execution_count": 37,
   "metadata": {},
   "outputs": [],
   "source": [
    "abril = np.array(abril, dtype = float)"
   ]
  },
  {
   "cell_type": "code",
   "execution_count": 38,
   "metadata": {},
   "outputs": [],
   "source": [
    "maio = np.array(maio, dtype = float)"
   ]
  },
  {
   "cell_type": "code",
   "execution_count": 39,
   "metadata": {},
   "outputs": [],
   "source": [
    "junho = np.array(junho, dtype = float)"
   ]
  },
  {
   "cell_type": "markdown",
   "metadata": {},
   "source": [
    "* Fazendo a regressão\n",
    "\n",
    "Agora, finalmente, faremos a regressão linear. Se você tem dúvidas conceituais sobre esse procedimento, recomendo a leitura [aqui](https://en.wikipedia.org/wiki/Linear_regression) e em livros sobre estatística básica, especialmente os que tratam de modelos.\n",
    "\n",
    "Para fazer a regressão, usaremos o comando `ss.linregress`. Esse comando nos fornece como output *cinco* parâmetros: o coeficiente angular (`slope`) da reta, o coeficiente linear (`intercept`) da reta, o valor de R-quadrado (`r_value`), o p-valor (`p-value`) e o erro-padrão (`std_err`). Fazendo então a regressão entre os dados do eixo X (datas dos meses) e do eixo Y (número de casos totais para cada mês), teremos:"
   ]
  },
  {
   "cell_type": "code",
   "execution_count": 40,
   "metadata": {},
   "outputs": [],
   "source": [
    "slope, intercept, r_value, p_value, std_err = ss.linregress(abril, abril_totalcases)"
   ]
  },
  {
   "cell_type": "code",
   "execution_count": 41,
   "metadata": {},
   "outputs": [],
   "source": [
    "slope_2, intercept_2, r_value_2, p_value_2, std_err_2 = ss.linregress(maio, maio_totalcases)"
   ]
  },
  {
   "cell_type": "code",
   "execution_count": 42,
   "metadata": {},
   "outputs": [],
   "source": [
    "slope_3, intercept_3, r_value_3, p_value_3, std_err_3 = ss.linregress(junho, junho_totalcases)"
   ]
  },
  {
   "cell_type": "markdown",
   "metadata": {},
   "source": [
    "Finalmente, construímos um modelo linear na forma **y = slope * x + intercept**:"
   ]
  },
  {
   "cell_type": "code",
   "execution_count": 43,
   "metadata": {},
   "outputs": [],
   "source": [
    "y_abril = slope*abril + intercept"
   ]
  },
  {
   "cell_type": "code",
   "execution_count": 44,
   "metadata": {},
   "outputs": [],
   "source": [
    "y_maio = slope_2 * maio + intercept_2"
   ]
  },
  {
   "cell_type": "code",
   "execution_count": 45,
   "metadata": {},
   "outputs": [],
   "source": [
    "y_junho = slope_3 * junho + intercept_3"
   ]
  },
  {
   "cell_type": "markdown",
   "metadata": {},
   "source": [
    "## Quarto passo: plotando os gráficos"
   ]
  },
  {
   "cell_type": "markdown",
   "metadata": {},
   "source": [
    "Chegou a hora de plotar os gráficos. Dividiremos essa etapa da seguinte maneira:"
   ]
  },
  {
   "cell_type": "markdown",
   "metadata": {},
   "source": [
    "***\n",
    "**Gráfico 01: Número total de casos e mortes**\n",
    "***"
   ]
  },
  {
   "cell_type": "code",
   "execution_count": 47,
   "metadata": {},
   "outputs": [
    {
     "data": {
      "image/png": "[encoded data removed]",
      "text/plain": [
       "<Figure size 432x288 with 1 Axes>"
      ]
     },
     "metadata": {},
     "output_type": "display_data"
    }
   ],
   "source": [
    "plt.style.use('seaborn-darkgrid') # Um estilo bonitinho pros gráficos\n",
    "plt.figure(0)\n",
    "plt.plot(dias, df['Total cases'], label = 'Total de casos') #Plota no eixo X os dias, no eixo Y o número total de casos\n",
    "plt.plot(dias, df['Total deaths'], label = 'Total de mortes') #Plota no eixo X os dias, no eixo Y o número total de mortes\n",
    "plt.yscale(\"log\") #Muda a escala do eixo y para logarítmica.\n",
    "plt.legend(loc = 'best') #Posição da legenda: melhor que o Python encontra.\n",
    "plt.ylabel('Número', fontweight = 'bold', fontsize = 12) #Coloca legenda do eixo Y\n",
    "plt.fill_between(dias, 0.7*df['Total cases'], 1.3*df['Total cases'], alpha = 0.4) #Coloca a 'sombra' na linha\n",
    "plt.fill_between(dias, 0.7*df['Total deaths'], 1.3*df['Total deaths'], alpha = 0.4) #Coloca a 'sombra' na linha\n",
    "plt.show()"
   ]
  },
  {
   "cell_type": "markdown",
   "metadata": {},
   "source": [
    "***\n",
    "**Gráficos 02, 03 e 04: casos totais por mês e ajuste linear**\n",
    "***"
   ]
  },
  {
   "cell_type": "code",
   "execution_count": 48,
   "metadata": {},
   "outputs": [
    {
     "data": {
      "text/plain": [
       "Text(1.5909696e+18, 4501, '$R^2$ =  0.994')"
      ]
     },
     "execution_count": 48,
     "metadata": {},
     "output_type": "execute_result"
    },
    {
     "data": {
      "image/png": "[encoded data removed]",
      "text/plain": [
       "<Figure size 432x288 with 1 Axes>"
      ]
     },
     "metadata": {},
     "output_type": "display_data"
    },
    {
     "data": {
      "image/png": "[encoded data removed]",
      "text/plain": [
       "<Figure size 432x288 with 1 Axes>"
      ]
     },
     "metadata": {},
     "output_type": "display_data"
    },
    {
     "data": {
      "image/png": "[encoded data removed]",
      "text/plain": [
       "<Figure size 432x288 with 1 Axes>"
      ]
     },
     "metadata": {},
     "output_type": "display_data"
    }
   ],
   "source": [
    "plt.figure(1)\n",
    "plt.plot(abril, abril_totalcases, 'o', markersize = 7, markeredgewidth = 1.5)\n",
    "plt.plot(abril, y_abril, '--', linewidth = 1.5, label = 'Ajuste linear')\n",
    "plt.legend(loc = 'best')\n",
    "plt.title('Casos totais em Niterói' \"\\n\" 'Abril de 2020')\n",
    "plt.gca().axes.get_xaxis().set_ticklabels([])\n",
    "plt.text(abril[0], abril_totalcases.iloc[-3], '$R^2$ =  %0.3f' % r_value, fontweight = 'bold')\n",
    "\n",
    "plt.figure(2)\n",
    "plt.plot(maio, maio_totalcases, 'o', markersize = 7, markeredgewidth = 1.5)\n",
    "plt.plot(maio, y_maio, '--', linewidth = 1.5, label = 'Ajuste linear')\n",
    "plt.legend(loc = 'best')\n",
    "plt.title('Casos totais em Niterói' \"\\n\" 'Maio de 2020')\n",
    "plt.gca().axes.get_xaxis().set_ticklabels([]) #Apaga o eixo X\n",
    "plt.text(maio[0], maio_totalcases.iloc[-6], '$R^2$ =  %0.3f' % r_value_2, fontweight = 'bold') #Insere R-quadrado no gráfico\n",
    "\n",
    "plt.figure(3)\n",
    "plt.plot(junho, junho_totalcases, 'o', markersize = 7, markeredgewidth = 1.5)\n",
    "plt.plot(junho, y_junho, '--', linewidth = 1.5, label = 'Ajuste linear')\n",
    "plt.legend(loc = 'best')\n",
    "plt.title('Casos totais em Niterói' \"\\n\" 'Junho de 2020')\n",
    "plt.gca().axes.get_xaxis().set_ticklabels([])\n",
    "plt.text(junho[0], junho_totalcases.iloc[-2], '$R^2$ =  %0.3f' % r_value_3, fontweight = 'bold')"
   ]
  },
  {
   "cell_type": "markdown",
   "metadata": {},
   "source": [
    "Perceberam uma tendência interessante nesses gráficos? O crescimento dos novos casos em Niterói, nos meses de Abril e Maio, foi pouco parecido com uma reta (R-quadrado = 0,97). Em Junho, o ajuste a um modelo linear melhorou consideravelmente (R-quadrado = 0,99), o que pode indicar uma estabilização da doença na cidade."
   ]
  },
  {
   "cell_type": "markdown",
   "metadata": {},
   "source": [
    "***\n",
    "**Gráfico 05: novos casos diários e novas mortes diárias**\n",
    "***"
   ]
  },
  {
   "cell_type": "code",
   "execution_count": 49,
   "metadata": {},
   "outputs": [
    {
     "data": {
      "image/png": "[encoded data removed]",
      "text/plain": [
       "<Figure size 432x288 with 1 Axes>"
      ]
     },
     "metadata": {},
     "output_type": "display_data"
    }
   ],
   "source": [
    "plt.figure(4)\n",
    "plt.bar(dias, df['New cases'], label = 'Novos casos diários')\n",
    "plt.bar(dias, df['New deaths'], label = 'Novas mortes diárias')\n",
    "plt.legend(loc = 'best')\n",
    "plt.yscale(\"log\")"
   ]
  },
  {
   "cell_type": "code",
   "execution_count": null,
   "metadata": {},
   "outputs": [],
   "source": []
  }
 ],
 "metadata": {
  "kernelspec": {
   "display_name": "Python 3",
   "language": "python",
   "name": "python3"
  },
  "language_info": {
   "codemirror_mode": {
    "name": "ipython",
    "version": 3
   },
   "file_extension": ".py",
   "mimetype": "text/x-python",
   "name": "python",
   "nbconvert_exporter": "python",
   "pygments_lexer": "ipython3",
   "version": "3.7.7"
  }
 },
 "nbformat": 4,
 "nbformat_minor": 4
}
