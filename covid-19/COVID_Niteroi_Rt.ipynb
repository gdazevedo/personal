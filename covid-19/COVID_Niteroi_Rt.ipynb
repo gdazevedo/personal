{
 "cells": [
  {
   "cell_type": "markdown",
   "metadata": {},
   "source": [
    "## COVID-19 em Niterói - Cálculo do número de reprodução efetivo (R$_t$)"
   ]
  },
  {
   "cell_type": "markdown",
   "metadata": {},
   "source": [
    "Esse tutorial visa a implementação de um código capaz de calcular o número de reprodução efetivo (R$_t$) da COVID-19 para a cidade de Niterói (RJ). A abordagem pode ser facilmente estendida para qualquer base de dados disponível.\n",
    "\n",
    "Esse código usa como referência o trabalho de [Bettencourt e Ribeiro (2008)](https://journals.plos.org/plosone/article/file?id=10.1371/journal.pone.0002185&type=printable) e uma adaptação da rotina implementada por [Kevin](https://github.com/k-sys/covid-19/blob/master/Realtime%20R0.ipynb)"
   ]
  },
  {
   "cell_type": "markdown",
   "metadata": {},
   "source": [
    "## Uma revisão teórica"
   ]
  },
  {
   "cell_type": "markdown",
   "metadata": {},
   "source": [
    "### Distribuição de Poisson"
   ]
  },
  {
   "cell_type": "markdown",
   "metadata": {},
   "source": [
    "Na teoria da probabilidade e na estatística, a distribuição de Poisson é uma distribuição de probabilidade de variável aleatória discreta que expressa a probabilidade de uma série de eventos ocorrer num certo período de tempo se estes eventos ocorrem independentemente de quando ocorreu o último evento. A probabilidade de que existam exatamente $k$ ocorrências ($k \\geq 0$) é:"
   ]
  },
  {
   "cell_type": "markdown",
   "metadata": {},
   "source": [
    "$P(k|\\lambda) = \\dfrac{e^{-\\lambda}\\lambda^k}{k!}$"
   ]
  },
  {
   "cell_type": "markdown",
   "metadata": {},
   "source": [
    "Na equação anterior, $\\lambda$ é o número *esperado* de ocorrências. Esse tipo de distribuição é bastante utilizado na área de saúde para prever o avanço de uma determinada doença em uma população. Utiliza-se uma distribuição de *probabilidades* pois a taxa com que uma doença avança sobre uma população depende de diversos fatores, alguns deles de fácil quantificação, outros de medição mais complicada - sendo, portanto, uma **predição** de um cenário que, obviamente, virá carregada de incertezas."
   ]
  },
  {
   "cell_type": "markdown",
   "metadata": {},
   "source": [
    "Felizmente, nós não precisamos nos preocupar em implementar essa distribuição. O Python já traz essa função no pacote `scipy.stats`. Tudo que você precisa fornecer à essa função (`scipy.stats.poisson.pmf`) são os parâmetros $\\lambda$ e $k$:"
   ]
  },
  {
   "cell_type": "markdown",
   "metadata": {},
   "source": [
    "### Número básico de reprodução (R$_0$) e número efetivo de reprodução (R$_t$):"
   ]
  },
  {
   "cell_type": "markdown",
   "metadata": {},
   "source": [
    "Em epidemiologia, uma das maneiras de se mensurar o avanço de determinada doença é através do cálculo do **número básico de reprodução (R$_0$)**, que mede quantos indíviduos de uma população totalmente suscetível um outro indivíduo que tem uma doença pode contaminar.\n",
    "\n",
    "É importante frisar que o R$_0$ é uma variável \"*irreal*\" , no sentido de que ela é válida quando não há *nenhuma* medida de contenção por partes das autoridades. No caso da COVID-19, esse número só seria real se nós ignorássemos por completo a doença e continuássemos saindo às ruas normalmente, não houvesse medidas de higiene mais rígidas, não houvesse uso de máscaras etc.\n",
    "\n",
    "Bom, já dá pra perceber que esse número está um pouco fora da realidade, não é? O ideal seria medir essa probabilidade de contaminação através de um número que conseguisse se adequar mais à realidade, isto é, onde medidas de contenção serão tomadas, mesmo que mínimas. É o caso do **número efetivo de reprodução (R$_t$)**.\n",
    "\n",
    "O que o trabalho de Bettencourt e Ribeiro (2008) buscou fazer é estabelecer uma **relação matemática** entre R$_t$ e $\\lambda$, obtida na forma:"
   ]
  },
  {
   "cell_type": "markdown",
   "metadata": {},
   "source": [
    "$\\lambda =  k_{t-1}e^{\\gamma(R_t-1)}$"
   ]
  },
  {
   "cell_type": "markdown",
   "metadata": {},
   "source": [
    "Ou seja: o número *esperado* de casos ($\\lambda$) depende do número de casos **confirmados** no momento imediatamente anterior à medição ($k_{t-1}$), do número efetivo de reprodução (R$_t$) e do **período de infecção ($\\gamma^{-1}$)**, que é o período que o indivíduo fica infectado com a doença (no caso da COVID-19, esse período é de 7 dias).\n",
    "\n",
    "Aconselho fortemente que o leitor dê uma olhada no artigo de [Bettencourt e Ribeiro (2008)](https://journals.plos.org/plosone/article/file?id=10.1371/journal.pone.0002185&type=printable) caso esteja curioso sobre a derivação matemática da relação anterior. Além disso, conhecimentos extras sobre distribuições de probabilidade ajudam nesse momento =)"
   ]
  },
  {
   "cell_type": "markdown",
   "metadata": {},
   "source": [
    "## Implementação do código"
   ]
  },
  {
   "cell_type": "markdown",
   "metadata": {},
   "source": [
    "### Primeiro passo: chamando as bibliotecas"
   ]
  },
  {
   "cell_type": "markdown",
   "metadata": {},
   "source": [
    "Vamos necessitar de quatro bibliotecas para esse código:\n",
    "\n",
    "* **Pandas**, um pacote magnífico para lidar com estrutura de dados em tabelas;\n",
    "* **Numpy**, um pacote para operações matemáticas;\n",
    "* **Scipy.stats**, módulo estatístico do pacote Scipy, para fazer análises estatísticas;\n",
    "* **Matplotlib.pyplot**, pacote mais utilizado para gerar gráfico."
   ]
  },
  {
   "cell_type": "code",
   "execution_count": 1,
   "metadata": {},
   "outputs": [],
   "source": [
    "import pandas as pd\n",
    "import numpy as np\n",
    "import matplotlib.pyplot as plt\n",
    "import scipy.stats as ss"
   ]
  },
  {
   "cell_type": "markdown",
   "metadata": {},
   "source": [
    "### Segundo passo: ler o arquivo `.csv` com os dados de Niterói"
   ]
  },
  {
   "cell_type": "markdown",
   "metadata": {},
   "source": [
    "A leitura do arquivo será feita pelo pacote **Pandas**, utilizando a função `read_csv`. Atente para o separador utilizado (;), para o argumento `header = 0`, que diz que a primeira linha de cada coluna é o cabeçalho, e para os nomes das colunas dados. Caso você opte por usar outra base de dados (de outra cidade) ou atualizar o arquivo com mais colunas, deverá colocar mais uma entrada no argumento *names*."
   ]
  },
  {
   "cell_type": "code",
   "execution_count": 2,
   "metadata": {},
   "outputs": [],
   "source": [
    "df = pd.read_csv(\"Dados_COVID_Niteroi.csv\", sep = ';', header = 0,\n",
    "                 names = ['Date', 'Total cases', 'New cases', 'Total deaths', 'New deaths'])"
   ]
  },
  {
   "cell_type": "markdown",
   "metadata": {},
   "source": [
    "Como a primeira coluna desse DataFrame são os dias, precisamos transformar esses dados em valores 'de data', para que o Pyhton consiga fazer os cálculos necessários posteriormente, entendendo que esses dados não são 'numéricos'. "
   ]
  },
  {
   "cell_type": "code",
   "execution_count": 3,
   "metadata": {},
   "outputs": [],
   "source": [
    "dias = pd.to_datetime(df['Date'])"
   ]
  },
  {
   "cell_type": "markdown",
   "metadata": {},
   "source": [
    "## Terceiro passo: geração das distribuições de probabilidade"
   ]
  },
  {
   "cell_type": "markdown",
   "metadata": {},
   "source": [
    "Agora é o momento de efetuar nossos cálculos. Vamos em etapas:\n",
    "\n",
    "* Vamos criar um espaço linear contendo diferentes valores de R$_t$ para serem inseridos na equação de cálculo de $\\lambda$. Isso nos dará uma possibilidade enorme de diferentes valores de $\\lambda$ para uma infinidade de valores de R$_t$, indo de um valor mínimo (0,0) até um valor máximo (R$_{t,máx}$):"
   ]
  },
  {
   "cell_type": "code",
   "execution_count": 7,
   "metadata": {},
   "outputs": [],
   "source": [
    "Rt_max = 12.0 #Aqui poderia ser qualquer valor muito grande - é quase impossível um Rt igual à 12."
   ]
  },
  {
   "cell_type": "code",
   "execution_count": 5,
   "metadata": {},
   "outputs": [],
   "source": [
    "Rt = np.linspace(0.0, Rt_max, 500)"
   ]
  },
  {
   "cell_type": "markdown",
   "metadata": {},
   "source": [
    "* Agora, vamos definir o valor de $\\gamma$. Lembrando que o período de infecção ($\\gamma^{-1}$) = 7, então $\\gamma = 1/7$:"
   ]
  },
  {
   "cell_type": "code",
   "execution_count": 6,
   "metadata": {},
   "outputs": [],
   "source": [
    "gamma = 1/7"
   ]
  },
  {
   "cell_type": "markdown",
   "metadata": {},
   "source": [
    "* Agora, lembra que a fórmula depende do número de casos diários (k)? Então, esse é o momento de selecionar essa coluna no nosso DataFrame. Pra isso, vamos transformá-la em *array*, para podermos fazer as operações de aplicação da função densidade de probabilidade de Poisson:"
   ]
  },
  {
   "cell_type": "code",
   "execution_count": 8,
   "metadata": {},
   "outputs": [],
   "source": [
    "total_cases = np.array(df['Total cases'])"
   ]
  },
  {
   "cell_type": "markdown",
   "metadata": {},
   "source": [
    "* Vamos agora fazer o cálculo dos valores de $\\lambda$:"
   ]
  },
  {
   "cell_type": "code",
   "execution_count": 9,
   "metadata": {},
   "outputs": [],
   "source": [
    "lam = total_cases[:-1] * np.exp(gamma * (Rt[:, None] - 1))"
   ]
  },
  {
   "cell_type": "markdown",
   "metadata": {},
   "source": [
    "Duas considerações importantes na fórmula anterior:\n",
    "* `total_cases[:-1]` significa que pegaremos todos os valores do vetor `total_cases`, *exceto o último*. Faremos isso porque se nós temos N entradas para o total de casos, nós teremos N-1 valores de lambda, já que o R$_t$ para o primeiro dia de pandemia não pode ser estimado (incerteza muito grande - $\\lambda$ depende da medida anterior);\n",
    "\n",
    "* Transformei o espaço linear `Rt` em uma 'coluna', fazendo `Rt[:,None]`, para não dar erro no cálculo."
   ]
  },
  {
   "cell_type": "markdown",
   "metadata": {},
   "source": [
    "Hora de calcular a função densidade de probabilidade de Poisson para o conjunto de dados (`total_cases` e os valores de `lam` calculados):"
   ]
  },
  {
   "cell_type": "code",
   "execution_count": 11,
   "metadata": {},
   "outputs": [],
   "source": [
    "Poisson_Rt = ss.poisson.pmf(total_cases[1:], lam)"
   ]
  },
  {
   "cell_type": "markdown",
   "metadata": {},
   "source": [
    "Lembrando que usamos `total_cases[1:]` porque queremos todos os valores da coluna dos casos totais **menos o primeiro dia**, que nós não temos como estimar. Por isso ele não pode entrar na função para a distribuição de probabilidades (não há probabilidade associada a ele)."
   ]
  },
  {
   "cell_type": "markdown",
   "metadata": {},
   "source": [
    "* O que o `Poisson_Rt` nos deu foram todas as **probabilidades** possíveis de se obter diferentes valores de R$_t$ associados aos números de casos totais reportados dia-a-dia. Como saber então qual o valor de R$_t$ mais provável?\n",
    "\n",
    "Bom, como teremos uma **curva** que apresenta um **pico**, é possível supor que o pico dessa curva representa o valor de R$_t$ mais provável de acontecer (ou seja, com maior valor de probabilidade).\n",
    "\n",
    "Mas uma maneira mais precisa de se fazer esse cálculo é considerar que cada probabilidade associada aos diferentes valores de R$_t$ representa um **peso** no cálculo do R$_t$. Em outras palavras: valores de R$_t$ com probabilidades baixas são menos prováveis de acontecer. Dependendo do formato da curva, o valor mais exato do R$_t$ pode não ser exatamente no pico - às vezes um pouco antes ou um pouco depois.\n",
    "\n",
    "Assim, podemos fazer um **produto acumulado** (`.cumprod()`) nos valores do vetor coluna `Poisson_Rt` para saber exatamente o valor mais provável (R$_t$ do pico da curva):"
   ]
  },
  {
   "cell_type": "code",
   "execution_count": 13,
   "metadata": {},
   "outputs": [],
   "source": [
    "Probs = Poisson_Rt.cumprod(axis=1)"
   ]
  },
  {
   "cell_type": "markdown",
   "metadata": {},
   "source": [
    "Atenção ao `axis=1`. Ele indica que você fará o produto acumulado descendo na mesma coluna, ok?"
   ]
  },
  {
   "cell_type": "markdown",
   "metadata": {},
   "source": [
    "Vamos transformar esse objeto `Probs` num dataframe? Isso é interessante para que a gente possa fazer todas as funcionalidades que o pacote **Pandas** nos permite:"
   ]
  },
  {
   "cell_type": "code",
   "execution_count": 14,
   "metadata": {},
   "outputs": [],
   "source": [
    "Probs = pd.DataFrame(data = Probs, index = Rt)"
   ]
  },
  {
   "cell_type": "markdown",
   "metadata": {},
   "source": [
    "Olha que interessante: ao escrever `index = Rt`, nós forçamos uma troca nos índices da coluna. Ao invés deles começarem na ordem crescente 0, 1...N, eles receberão, em sequência, os valores de R$_t$ designados para iniciarmos os nossos cálculos.\n",
    "\n",
    "O que precisamos fazer agora? Achar o índice do DataFrame `Probs` que corresponde ao **valor máximo** (`.idxmax()`) desse vetor coluna (ou seja, a maior probabilidade acumulada):"
   ]
  },
  {
   "cell_type": "code",
   "execution_count": 16,
   "metadata": {},
   "outputs": [],
   "source": [
    "Rt_prov = Probs.idxmax(axis = 0)"
   ]
  },
  {
   "cell_type": "markdown",
   "metadata": {},
   "source": [
    "* Agora, é só plotar a evolução do R$_t$, dia-a-dia, para a cidade de Niterói:"
   ]
  },
  {
   "cell_type": "code",
   "execution_count": 18,
   "metadata": {},
   "outputs": [
    {
     "data": {
      "text/plain": [
       "<matplotlib.legend.Legend at 0x1f693890388>"
      ]
     },
     "execution_count": 18,
     "metadata": {},
     "output_type": "execute_result"
    },
    {
     "data": {
      "image/png": "[encoded data removed]",
      "text/plain": [
       "<Figure size 432x288 with 1 Axes>"
      ]
     },
     "metadata": {},
     "output_type": "display_data"
    }
   ],
   "source": [
    "plt.style.use('ggplot') # estilo diferente para o gráfico\n",
    "plt.plot(dias[1:], Rt_prov, 'o-', lw=2, markersize = 5, markevery = 3, label = 'Valor estimado')\n",
    "plt.ylim([0.0,2.0])\n",
    "plt.ylabel('Número de reprodução efeitva ($R_t$)', fontweight = 'bold', fontsize = 8)\n",
    "plt.gca().axes.get_xaxis().set_ticklabels([])\n",
    "plt.hlines(1.0,dias.min(), dias.max(), linestyle = 'dashed', lw = 1.5, label = 'Risco médio')\n",
    "plt.hlines(0.8,dias.min(), dias.max(), colors = 'green', linestyle = 'dashed', lw = 1.5, label = 'Risco baixo')\n",
    "plt.hlines(1.2,dias.min(), dias.max(), colors = 'magenta', linestyle = 'dashed', lw = 1.5, label = 'Risco elevado' )\n",
    "plt.legend(loc = 'best')"
   ]
  },
  {
   "cell_type": "code",
   "execution_count": null,
   "metadata": {},
   "outputs": [],
   "source": []
  }
 ],
 "metadata": {
  "kernelspec": {
   "display_name": "Python 3",
   "language": "python",
   "name": "python3"
  },
  "language_info": {
   "codemirror_mode": {
    "name": "ipython",
    "version": 3
   },
   "file_extension": ".py",
   "mimetype": "text/x-python",
   "name": "python",
   "nbconvert_exporter": "python",
   "pygments_lexer": "ipython3",
   "version": "3.7.7"
  }
 },
 "nbformat": 4,
 "nbformat_minor": 4
}
